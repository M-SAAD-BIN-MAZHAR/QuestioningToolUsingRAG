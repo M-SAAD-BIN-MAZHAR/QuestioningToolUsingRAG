{
  "nbformat": 4,
  "nbformat_minor": 0,
  "metadata": {
    "colab": {
      "provenance": [],
      "gpuType": "T4",
      "authorship_tag": "ABX9TyP5wxpbyvVHxnKm9TPr+4OJ",
      "include_colab_link": true
    },
    "kernelspec": {
      "name": "python3",
      "display_name": "Python 3"
    },
    "language_info": {
      "name": "python"
    },
    "accelerator": "GPU"
  },
  "cells": [
    {
      "cell_type": "markdown",
      "metadata": {
        "id": "view-in-github",
        "colab_type": "text"
      },
      "source": [
        "<a href=\"https://colab.research.google.com/github/M-SAAD-BIN-MAZHAR/QuestioningToolUsingRAG/blob/main/QuestioningToolUsingRAG.ipynb\" target=\"_parent\"><img src=\"https://colab.research.google.com/assets/colab-badge.svg\" alt=\"Open In Colab\"/></a>"
      ]
    },
    {
      "cell_type": "code",
      "execution_count": null,
      "metadata": {
        "id": "PgJ4oXxEryhL"
      },
      "outputs": [],
      "source": [
        "!pip -q install langchain langchain-community\n",
        "!pip -q install pypdf\n",
        "!pip -q install sentence_transformers\n",
        "!pip install openai\n",
        "!pip install huggingface_hub\n",
        "!pip install tiktoken\n",
        "!pip install tokenizers\n",
        "!pip install faiss-cpu\n",
        "!pip -q install unstructured\n",
        "!pip install numpy==1.24.4\n",
        "!pip install nltk==3.9.1"
      ]
    },
    {
      "cell_type": "code",
      "source": [
        "import sys\n",
        "import os\n",
        "import textwrap\n",
        "from langchain.document_loaders import UnstructuredURLLoader\n",
        "from langchain.text_splitter import CharacterTextSplitter\n",
        "from langchain_huggingface import HuggingFaceEmbeddings\n",
        "from langchain_huggingface import ChatHuggingFace,HuggingFaceEndpoint\n",
        "from langchain_community.vectorstores import FAISS\n",
        "from langchain.chains import RetrievalQAWithSourcesChain\n",
        "\n"
      ],
      "metadata": {
        "id": "zozVFcJlswwB"
      },
      "execution_count": null,
      "outputs": []
    },
    {
      "cell_type": "code",
      "source": [
        "pip install langchain-huggingface\n"
      ],
      "metadata": {
        "id": "FNKUTJTS2vOW"
      },
      "execution_count": null,
      "outputs": []
    },
    {
      "cell_type": "code",
      "source": [
        "import nltk\n",
        "nltk.download('punkt')\n",
        "nltk.download('averaged_perceptron_tagger')"
      ],
      "metadata": {
        "id": "SdYY4CKftdBl"
      },
      "execution_count": null,
      "outputs": []
    },
    {
      "cell_type": "code",
      "source": [
        "\n",
        "os.environ['HUGGINGFACEHUB_API_TOKEN'] = \"\""
      ],
      "metadata": {
        "id": "eLFV7dgzujjv"
      },
      "execution_count": null,
      "outputs": []
    },
    {
      "cell_type": "code",
      "source": [
        "URLs=[\n",
        "    'https://blog.gopenai.com/paper-review-llama-2-open-foundation-and-fine-tuned-chat-models-23e539522acb',\n",
        "    'https://www.mosaicml.com/blog/mpt-7b',\n",
        "    'https://stability.ai/blog/stability-ai-launches-the-first-of-its-stablelm-suite-of-language-models',\n",
        "    'https://lmsys.org/blog/2023-03-30-vicuna/'\n",
        "\n",
        "]"
      ],
      "metadata": {
        "id": "7a_a3p9vu1Yh"
      },
      "execution_count": null,
      "outputs": []
    },
    {
      "cell_type": "code",
      "source": [
        "loaders=UnstructuredURLLoader(urls=URLs)\n",
        "data=loaders.load()"
      ],
      "metadata": {
        "id": "jxQUs0oVu3gM"
      },
      "execution_count": null,
      "outputs": []
    },
    {
      "cell_type": "code",
      "source": [
        "data"
      ],
      "metadata": {
        "id": "CYJgk8m0vhuI"
      },
      "execution_count": null,
      "outputs": []
    },
    {
      "cell_type": "code",
      "source": [
        "text_splitter=CharacterTextSplitter(separator='\\n',\n",
        "                                    chunk_size=1000,\n",
        "                                    chunk_overlap=200)"
      ],
      "metadata": {
        "id": "K4E7poc4vjPg"
      },
      "execution_count": null,
      "outputs": []
    },
    {
      "cell_type": "code",
      "source": [
        "text_chunks=text_splitter.split_documents(data)"
      ],
      "metadata": {
        "id": "DWsZOU59vzVp"
      },
      "execution_count": null,
      "outputs": []
    },
    {
      "cell_type": "code",
      "source": [
        "len(text_chunks)"
      ],
      "metadata": {
        "id": "PaOxGHpkv--i"
      },
      "execution_count": null,
      "outputs": []
    },
    {
      "cell_type": "code",
      "source": [
        "text_chunks[1]"
      ],
      "metadata": {
        "id": "pxNp4DGnwBr5"
      },
      "execution_count": null,
      "outputs": []
    },
    {
      "cell_type": "code",
      "source": [
        "embeddings=HuggingFaceEmbeddings(model_name='sentence-transformers/all-MiniLM-L6-v2')"
      ],
      "metadata": {
        "id": "gz4GrbAkwGBE"
      },
      "execution_count": null,
      "outputs": []
    },
    {
      "cell_type": "code",
      "source": [
        "llm=HuggingFaceEndpoint(\n",
        "    repo_id='mistralai/Mistral-7B-Instruct-v0.3',\n",
        "    task='text-generation'\n",
        ")\n",
        "model=ChatHuggingFace(llm=llm)"
      ],
      "metadata": {
        "id": "6O4ujWEHwNAQ"
      },
      "execution_count": null,
      "outputs": []
    },
    {
      "cell_type": "code",
      "source": [
        "print(embeddings.embed_query('hello world'))"
      ],
      "metadata": {
        "id": "fxLjcC_GwUpw"
      },
      "execution_count": null,
      "outputs": []
    },
    {
      "cell_type": "code",
      "source": [
        "vector_store=FAISS.from_documents(text_chunks,embeddings)"
      ],
      "metadata": {
        "id": "Hs1T4_5A3DWj"
      },
      "execution_count": null,
      "outputs": []
    },
    {
      "cell_type": "code",
      "source": [
        "model.invoke(\"hello\")"
      ],
      "metadata": {
        "id": "wADtkQvV3QRs"
      },
      "execution_count": null,
      "outputs": []
    },
    {
      "cell_type": "code",
      "source": [
        "from langchain.chains import create_retrieval_chain\n",
        "from langchain.chains.combine_documents import create_stuff_documents_chain\n",
        "from langchain.prompts import ChatPromptTemplate\n",
        "\n",
        "# Define a simple prompt\n",
        "prompt = ChatPromptTemplate.from_template(\n",
        "    \"Use the following context to answer the question.\\n\\n{context}\\n\\nQuestion: {input}\"\n",
        ")\n",
        "\n",
        "# Create a document chain\n",
        "document_chain = create_stuff_documents_chain(\n",
        "    llm=model,\n",
        "    prompt=prompt,\n",
        ")\n",
        "\n",
        "# Build the retrieval chain\n",
        "chain = create_retrieval_chain(\n",
        "    retriever=vector_store.as_retriever(),\n",
        "    combine_docs_chain=document_chain,   # ✅ correct key in 0.3.x\n",
        ")\n",
        "\n",
        "# Run the chain\n",
        "response = chain.invoke({\"input\": \"What is LangChain?\"})\n",
        "print(response)\n"
      ],
      "metadata": {
        "id": "KR6ojcTu3W_w"
      },
      "execution_count": null,
      "outputs": []
    },
    {
      "cell_type": "code",
      "source": [
        "results=chain.invoke({'input':'How good is Vicuna?'},return_only_outputs=True)"
      ],
      "metadata": {
        "id": "Zd3gwiMI4Ivd"
      },
      "execution_count": null,
      "outputs": []
    },
    {
      "cell_type": "code",
      "source": [
        "results['answer']"
      ],
      "metadata": {
        "id": "u-R0s87K6St1"
      },
      "execution_count": null,
      "outputs": []
    },
    {
      "cell_type": "code",
      "source": [
        "wrapped_text=textwrap.fill(results['answer'],width=500)"
      ],
      "metadata": {
        "id": "De_9moFo6g3S"
      },
      "execution_count": null,
      "outputs": []
    },
    {
      "cell_type": "code",
      "source": [
        "wrapped_text"
      ],
      "metadata": {
        "id": "WHaxTu7X6tG_"
      },
      "execution_count": null,
      "outputs": []
    },
    {
      "cell_type": "code",
      "source": [
        "while True:\n",
        "  query=input(f'Prompt: ')\n",
        "  if query=='exit' :\n",
        "    print('Exiting')\n",
        "    sys.exit()\n",
        "  if query =='':\n",
        "    continue\n",
        "  result=chain.invoke('input',query)\n",
        "  print(f'Response: {result[\"answer\"]}')"
      ],
      "metadata": {
        "id": "1pcFg3Gu6wN4"
      },
      "execution_count": null,
      "outputs": []
    },
    {
      "cell_type": "code",
      "source": [],
      "metadata": {
        "id": "zWrAjjtO7WuI"
      },
      "execution_count": null,
      "outputs": []
    }
  ]
}